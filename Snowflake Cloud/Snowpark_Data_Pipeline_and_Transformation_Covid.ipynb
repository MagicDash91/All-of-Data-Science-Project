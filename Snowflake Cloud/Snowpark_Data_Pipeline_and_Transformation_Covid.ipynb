{
  "nbformat": 4,
  "nbformat_minor": 0,
  "metadata": {
    "colab": {
      "provenance": []
    },
    "kernelspec": {
      "name": "python3",
      "display_name": "Python 3"
    },
    "language_info": {
      "name": "python"
    }
  },
  "cells": [
    {
      "cell_type": "markdown",
      "source": [
        "# Install Required Library"
      ],
      "metadata": {
        "id": "OJrgrKGuED7B"
      }
    },
    {
      "cell_type": "code",
      "execution_count": 1,
      "metadata": {
        "colab": {
          "base_uri": "https://localhost:8080/",
          "height": 0
        },
        "id": "1kc0QQ9tD63g",
        "outputId": "b245f1e8-11be-4de3-a7f4-488929cafe62"
      },
      "outputs": [
        {
          "output_type": "stream",
          "name": "stdout",
          "text": [
            "Collecting snowflake-snowpark-python\n",
            "  Downloading snowflake_snowpark_python-1.14.0-py3-none-any.whl (419 kB)\n",
            "\u001b[2K     \u001b[90m━━━━━━━━━━━━━━━━━━━━━━━━━━━━━━━━━━━━━━━━\u001b[0m \u001b[32m419.7/419.7 kB\u001b[0m \u001b[31m4.1 MB/s\u001b[0m eta \u001b[36m0:00:00\u001b[0m\n",
            "\u001b[?25hRequirement already satisfied: setuptools>=40.6.0 in /usr/local/lib/python3.10/dist-packages (from snowflake-snowpark-python) (67.7.2)\n",
            "Requirement already satisfied: wheel in /usr/local/lib/python3.10/dist-packages (from snowflake-snowpark-python) (0.43.0)\n",
            "Collecting snowflake-connector-python<4.0.0,>=3.6.0 (from snowflake-snowpark-python)\n",
            "  Downloading snowflake_connector_python-3.9.0-cp310-cp310-manylinux_2_17_x86_64.manylinux2014_x86_64.whl (2.6 MB)\n",
            "\u001b[2K     \u001b[90m━━━━━━━━━━━━━━━━━━━━━━━━━━━━━━━━━━━━━━━━\u001b[0m \u001b[32m2.6/2.6 MB\u001b[0m \u001b[31m11.0 MB/s\u001b[0m eta \u001b[36m0:00:00\u001b[0m\n",
            "\u001b[?25hRequirement already satisfied: typing-extensions<5.0.0,>=4.1.0 in /usr/local/lib/python3.10/dist-packages (from snowflake-snowpark-python) (4.11.0)\n",
            "Requirement already satisfied: pyyaml in /usr/local/lib/python3.10/dist-packages (from snowflake-snowpark-python) (6.0.1)\n",
            "Requirement already satisfied: cloudpickle!=2.1.0,!=2.2.0,<=2.2.1,>=1.6.0 in /usr/local/lib/python3.10/dist-packages (from snowflake-snowpark-python) (2.2.1)\n",
            "Collecting asn1crypto<2.0.0,>0.24.0 (from snowflake-connector-python<4.0.0,>=3.6.0->snowflake-snowpark-python)\n",
            "  Downloading asn1crypto-1.5.1-py2.py3-none-any.whl (105 kB)\n",
            "\u001b[2K     \u001b[90m━━━━━━━━━━━━━━━━━━━━━━━━━━━━━━━━━━━━━━━━\u001b[0m \u001b[32m105.0/105.0 kB\u001b[0m \u001b[31m9.6 MB/s\u001b[0m eta \u001b[36m0:00:00\u001b[0m\n",
            "\u001b[?25hRequirement already satisfied: cffi<2.0.0,>=1.9 in /usr/local/lib/python3.10/dist-packages (from snowflake-connector-python<4.0.0,>=3.6.0->snowflake-snowpark-python) (1.16.0)\n",
            "Requirement already satisfied: cryptography<43.0.0,>=3.1.0 in /usr/local/lib/python3.10/dist-packages (from snowflake-connector-python<4.0.0,>=3.6.0->snowflake-snowpark-python) (42.0.5)\n",
            "Requirement already satisfied: pyOpenSSL<25.0.0,>=16.2.0 in /usr/local/lib/python3.10/dist-packages (from snowflake-connector-python<4.0.0,>=3.6.0->snowflake-snowpark-python) (24.1.0)\n",
            "Requirement already satisfied: pyjwt<3.0.0 in /usr/lib/python3/dist-packages (from snowflake-connector-python<4.0.0,>=3.6.0->snowflake-snowpark-python) (2.3.0)\n",
            "Requirement already satisfied: pytz in /usr/local/lib/python3.10/dist-packages (from snowflake-connector-python<4.0.0,>=3.6.0->snowflake-snowpark-python) (2023.4)\n",
            "Requirement already satisfied: requests<3.0.0 in /usr/local/lib/python3.10/dist-packages (from snowflake-connector-python<4.0.0,>=3.6.0->snowflake-snowpark-python) (2.31.0)\n",
            "Requirement already satisfied: packaging in /usr/local/lib/python3.10/dist-packages (from snowflake-connector-python<4.0.0,>=3.6.0->snowflake-snowpark-python) (24.0)\n",
            "Requirement already satisfied: charset-normalizer<4,>=2 in /usr/local/lib/python3.10/dist-packages (from snowflake-connector-python<4.0.0,>=3.6.0->snowflake-snowpark-python) (3.3.2)\n",
            "Requirement already satisfied: idna<4,>=2.5 in /usr/local/lib/python3.10/dist-packages (from snowflake-connector-python<4.0.0,>=3.6.0->snowflake-snowpark-python) (3.7)\n",
            "Requirement already satisfied: certifi>=2017.4.17 in /usr/local/lib/python3.10/dist-packages (from snowflake-connector-python<4.0.0,>=3.6.0->snowflake-snowpark-python) (2024.2.2)\n",
            "Requirement already satisfied: filelock<4,>=3.5 in /usr/local/lib/python3.10/dist-packages (from snowflake-connector-python<4.0.0,>=3.6.0->snowflake-snowpark-python) (3.13.4)\n",
            "Requirement already satisfied: sortedcontainers>=2.4.0 in /usr/local/lib/python3.10/dist-packages (from snowflake-connector-python<4.0.0,>=3.6.0->snowflake-snowpark-python) (2.4.0)\n",
            "Requirement already satisfied: platformdirs<5.0.0,>=2.6.0 in /usr/local/lib/python3.10/dist-packages (from snowflake-connector-python<4.0.0,>=3.6.0->snowflake-snowpark-python) (4.2.0)\n",
            "Collecting tomlkit (from snowflake-connector-python<4.0.0,>=3.6.0->snowflake-snowpark-python)\n",
            "  Downloading tomlkit-0.12.4-py3-none-any.whl (37 kB)\n",
            "Requirement already satisfied: pycparser in /usr/local/lib/python3.10/dist-packages (from cffi<2.0.0,>=1.9->snowflake-connector-python<4.0.0,>=3.6.0->snowflake-snowpark-python) (2.22)\n",
            "Requirement already satisfied: urllib3<3,>=1.21.1 in /usr/local/lib/python3.10/dist-packages (from requests<3.0.0->snowflake-connector-python<4.0.0,>=3.6.0->snowflake-snowpark-python) (2.0.7)\n",
            "Installing collected packages: asn1crypto, tomlkit, snowflake-connector-python, snowflake-snowpark-python\n",
            "Successfully installed asn1crypto-1.5.1 snowflake-connector-python-3.9.0 snowflake-snowpark-python-1.14.0 tomlkit-0.12.4\n"
          ]
        }
      ],
      "source": [
        "pip install snowflake-snowpark-python"
      ]
    },
    {
      "cell_type": "markdown",
      "source": [
        "# Create Snowpark Session"
      ],
      "metadata": {
        "id": "Iet52IC1EHnA"
      }
    },
    {
      "cell_type": "code",
      "source": [
        "from snowflake.snowpark.session import Session\n",
        "\n",
        "username = 'MAGICDASH91'\n",
        "password = '*****************'\n",
        "account = 'tk11073.europe-west4.gcp'\n",
        "warehouse = 'COMPUTE_WH'\n",
        "database = 'COVID19_EPIDEMIOLOGICAL_DATA'\n",
        "schema = 'PUBLIC'\n",
        "\n",
        "def snowpark_session_create():\n",
        "  connection_params = {\n",
        "      \"user\": username,\n",
        "      \"password\": password,\n",
        "      \"account\": account,\n",
        "      \"warehouse\": warehouse,\n",
        "      \"database\": database,\n",
        "      \"schema\": schema\n",
        "  }\n",
        "\n",
        "  # Create the session\n",
        "  session = Session.builder.configs(connection_params).create()\n",
        "  return session\n",
        "\n",
        "demo_session = snowpark_session_create()"
      ],
      "metadata": {
        "id": "pfJQCuC_EGVD"
      },
      "execution_count": 2,
      "outputs": []
    },
    {
      "cell_type": "markdown",
      "source": [
        "# Start Build Data Pipelines and Data Transformation"
      ],
      "metadata": {
        "id": "sELMN2REEYUJ"
      }
    },
    {
      "cell_type": "code",
      "source": [
        "df = demo_session.sql('SELECT * FROM OWID_VACCINATIONS')\n",
        "df.show()"
      ],
      "metadata": {
        "colab": {
          "base_uri": "https://localhost:8080/",
          "height": 0
        },
        "id": "1UM1GaIgEdCS",
        "outputId": "2e34b6f0-7615-4225-cf61-aa5d2e16e9cf"
      },
      "execution_count": 3,
      "outputs": [
        {
          "output_type": "stream",
          "name": "stdout",
          "text": [
            "--------------------------------------------------------------------------------------------------------------------------------------------------------------------------------------------------------------------------------------------------------------------------------------------------------------------------------------------------------------------------------------------------------------------------------------------------------------------------------------------------------------------\n",
            "|\"DATE\"      |\"COUNTRY_REGION\"  |\"ISO3166_1\"  |\"TOTAL_VACCINATIONS\"  |\"PEOPLE_VACCINATED\"  |\"PEOPLE_FULLY_VACCINATED\"  |\"DAILY_VACCINATIONS_RAW\"  |\"DAILY_VACCINATIONS\"  |\"TOTAL_VACCINATIONS_PER_HUNDRED\"  |\"PEOPLE_VACCINATED_PER_HUNDRED\"  |\"PEOPLE_FULLY_VACCINATED_PER_HUNDRED\"  |\"DAILY_VACCINATIONS_PER_MILLION\"  |\"VACCINES\"                                          |\"LAST_OBSERVATION_DATE\"  |\"SOURCE_NAME\"              |\"SOURCE_WEBSITE\"          |\"LAST_UPDATE_DATE\"          |\"LAST_REPORTED_FLAG\"  |\n",
            "--------------------------------------------------------------------------------------------------------------------------------------------------------------------------------------------------------------------------------------------------------------------------------------------------------------------------------------------------------------------------------------------------------------------------------------------------------------------------------------------------------------------\n",
            "|2021-02-22  |Afghanistan       |AF           |0                     |0                    |NULL                       |NULL                      |NULL                  |0.0                               |0.0                              |NULL                                   |NULL                              |CanSino, Covaxin, Johnson&Johnson, Moderna, Oxf...  |2023-11-26               |World Health Organization  |https://covid19.who.int/  |2023-12-14 22:01:08.767936  |False                 |\n",
            "|2021-02-23  |Afghanistan       |AF           |NULL                  |NULL                 |NULL                       |NULL                      |1367                  |NULL                              |NULL                             |NULL                                   |33.0                              |CanSino, Covaxin, Johnson&Johnson, Moderna, Oxf...  |2023-11-26               |World Health Organization  |https://covid19.who.int/  |2023-12-14 22:01:08.767936  |False                 |\n",
            "|2021-02-24  |Afghanistan       |AF           |NULL                  |NULL                 |NULL                       |NULL                      |1367                  |NULL                              |NULL                             |NULL                                   |33.0                              |CanSino, Covaxin, Johnson&Johnson, Moderna, Oxf...  |2023-11-26               |World Health Organization  |https://covid19.who.int/  |2023-12-14 22:01:08.767936  |False                 |\n",
            "|2021-02-25  |Afghanistan       |AF           |NULL                  |NULL                 |NULL                       |NULL                      |1367                  |NULL                              |NULL                             |NULL                                   |33.0                              |CanSino, Covaxin, Johnson&Johnson, Moderna, Oxf...  |2023-11-26               |World Health Organization  |https://covid19.who.int/  |2023-12-14 22:01:08.767936  |False                 |\n",
            "|2021-02-26  |Afghanistan       |AF           |NULL                  |NULL                 |NULL                       |NULL                      |1367                  |NULL                              |NULL                             |NULL                                   |33.0                              |CanSino, Covaxin, Johnson&Johnson, Moderna, Oxf...  |2023-11-26               |World Health Organization  |https://covid19.who.int/  |2023-12-14 22:01:08.767936  |False                 |\n",
            "|2021-02-27  |Afghanistan       |AF           |NULL                  |NULL                 |NULL                       |NULL                      |1367                  |NULL                              |NULL                             |NULL                                   |33.0                              |CanSino, Covaxin, Johnson&Johnson, Moderna, Oxf...  |2023-11-26               |World Health Organization  |https://covid19.who.int/  |2023-12-14 22:01:08.767936  |False                 |\n",
            "|2021-02-28  |Afghanistan       |AF           |8200                  |8200                 |NULL                       |NULL                      |1367                  |0.02                              |0.02                             |NULL                                   |33.0                              |CanSino, Covaxin, Johnson&Johnson, Moderna, Oxf...  |2023-11-26               |World Health Organization  |https://covid19.who.int/  |2023-12-14 22:01:08.767936  |False                 |\n",
            "|2021-03-01  |Afghanistan       |AF           |NULL                  |NULL                 |NULL                       |NULL                      |1580                  |NULL                              |NULL                             |NULL                                   |38.0                              |CanSino, Covaxin, Johnson&Johnson, Moderna, Oxf...  |2023-11-26               |World Health Organization  |https://covid19.who.int/  |2023-12-14 22:01:08.767936  |False                 |\n",
            "|2021-03-02  |Afghanistan       |AF           |NULL                  |NULL                 |NULL                       |NULL                      |1794                  |NULL                              |NULL                             |NULL                                   |44.0                              |CanSino, Covaxin, Johnson&Johnson, Moderna, Oxf...  |2023-11-26               |World Health Organization  |https://covid19.who.int/  |2023-12-14 22:01:08.767936  |False                 |\n",
            "|2021-03-03  |Afghanistan       |AF           |NULL                  |NULL                 |NULL                       |NULL                      |2008                  |NULL                              |NULL                             |NULL                                   |49.0                              |CanSino, Covaxin, Johnson&Johnson, Moderna, Oxf...  |2023-11-26               |World Health Organization  |https://covid19.who.int/  |2023-12-14 22:01:08.767936  |False                 |\n",
            "--------------------------------------------------------------------------------------------------------------------------------------------------------------------------------------------------------------------------------------------------------------------------------------------------------------------------------------------------------------------------------------------------------------------------------------------------------------------------------------------------------------------\n",
            "\n"
          ]
        }
      ]
    },
    {
      "cell_type": "code",
      "source": [
        "# Check the datatypes\n",
        "df.dtypes"
      ],
      "metadata": {
        "colab": {
          "base_uri": "https://localhost:8080/",
          "height": 0
        },
        "id": "3spP2AMTJEdj",
        "outputId": "c6f79375-8472-4976-dc08-c1d1d69ab0cd"
      },
      "execution_count": 4,
      "outputs": [
        {
          "output_type": "execute_result",
          "data": {
            "text/plain": [
              "[('DATE', 'date'),\n",
              " ('COUNTRY_REGION', 'string(100)'),\n",
              " ('ISO3166_1', 'string(2)'),\n",
              " ('TOTAL_VACCINATIONS', 'bigint'),\n",
              " ('PEOPLE_VACCINATED', 'bigint'),\n",
              " ('PEOPLE_FULLY_VACCINATED', 'bigint'),\n",
              " ('DAILY_VACCINATIONS_RAW', 'bigint'),\n",
              " ('DAILY_VACCINATIONS', 'bigint'),\n",
              " ('TOTAL_VACCINATIONS_PER_HUNDRED', 'double'),\n",
              " ('PEOPLE_VACCINATED_PER_HUNDRED', 'double'),\n",
              " ('PEOPLE_FULLY_VACCINATED_PER_HUNDRED', 'double'),\n",
              " ('DAILY_VACCINATIONS_PER_MILLION', 'double'),\n",
              " ('VACCINES', 'string(1000)'),\n",
              " ('LAST_OBSERVATION_DATE', 'date'),\n",
              " ('SOURCE_NAME', 'string(500)'),\n",
              " ('SOURCE_WEBSITE', 'string(2000)'),\n",
              " ('LAST_UPDATE_DATE', 'timestamp'),\n",
              " ('LAST_REPORTED_FLAG', 'boolean')]"
            ]
          },
          "metadata": {},
          "execution_count": 4
        }
      ]
    },
    {
      "cell_type": "code",
      "source": [
        "# Extract year from the DATE column\n",
        "df = df.withColumn(\"DATE\", df[\"DATE\"].substr(1, 4))\n",
        "df.show()"
      ],
      "metadata": {
        "colab": {
          "base_uri": "https://localhost:8080/",
          "height": 0
        },
        "id": "FVKLlvHNKOTU",
        "outputId": "549b44fc-a7fb-4366-db3d-811f3b73046c"
      },
      "execution_count": 5,
      "outputs": [
        {
          "output_type": "stream",
          "name": "stdout",
          "text": [
            "----------------------------------------------------------------------------------------------------------------------------------------------------------------------------------------------------------------------------------------------------------------------------------------------------------------------------------------------------------------------------------------------------------------------------------------------------------------------------------------------------------------\n",
            "|\"COUNTRY_REGION\"  |\"ISO3166_1\"  |\"TOTAL_VACCINATIONS\"  |\"PEOPLE_VACCINATED\"  |\"PEOPLE_FULLY_VACCINATED\"  |\"DAILY_VACCINATIONS_RAW\"  |\"DAILY_VACCINATIONS\"  |\"TOTAL_VACCINATIONS_PER_HUNDRED\"  |\"PEOPLE_VACCINATED_PER_HUNDRED\"  |\"PEOPLE_FULLY_VACCINATED_PER_HUNDRED\"  |\"DAILY_VACCINATIONS_PER_MILLION\"  |\"VACCINES\"                                          |\"LAST_OBSERVATION_DATE\"  |\"SOURCE_NAME\"              |\"SOURCE_WEBSITE\"          |\"LAST_UPDATE_DATE\"          |\"LAST_REPORTED_FLAG\"  |\"DATE\"  |\n",
            "----------------------------------------------------------------------------------------------------------------------------------------------------------------------------------------------------------------------------------------------------------------------------------------------------------------------------------------------------------------------------------------------------------------------------------------------------------------------------------------------------------------\n",
            "|Afghanistan       |AF           |0                     |0                    |NULL                       |NULL                      |NULL                  |0.0                               |0.0                              |NULL                                   |NULL                              |CanSino, Covaxin, Johnson&Johnson, Moderna, Oxf...  |2023-11-26               |World Health Organization  |https://covid19.who.int/  |2023-12-14 22:01:08.767936  |False                 |2021    |\n",
            "|Afghanistan       |AF           |NULL                  |NULL                 |NULL                       |NULL                      |1367                  |NULL                              |NULL                             |NULL                                   |33.0                              |CanSino, Covaxin, Johnson&Johnson, Moderna, Oxf...  |2023-11-26               |World Health Organization  |https://covid19.who.int/  |2023-12-14 22:01:08.767936  |False                 |2021    |\n",
            "|Afghanistan       |AF           |NULL                  |NULL                 |NULL                       |NULL                      |1367                  |NULL                              |NULL                             |NULL                                   |33.0                              |CanSino, Covaxin, Johnson&Johnson, Moderna, Oxf...  |2023-11-26               |World Health Organization  |https://covid19.who.int/  |2023-12-14 22:01:08.767936  |False                 |2021    |\n",
            "|Afghanistan       |AF           |NULL                  |NULL                 |NULL                       |NULL                      |1367                  |NULL                              |NULL                             |NULL                                   |33.0                              |CanSino, Covaxin, Johnson&Johnson, Moderna, Oxf...  |2023-11-26               |World Health Organization  |https://covid19.who.int/  |2023-12-14 22:01:08.767936  |False                 |2021    |\n",
            "|Afghanistan       |AF           |NULL                  |NULL                 |NULL                       |NULL                      |1367                  |NULL                              |NULL                             |NULL                                   |33.0                              |CanSino, Covaxin, Johnson&Johnson, Moderna, Oxf...  |2023-11-26               |World Health Organization  |https://covid19.who.int/  |2023-12-14 22:01:08.767936  |False                 |2021    |\n",
            "|Afghanistan       |AF           |NULL                  |NULL                 |NULL                       |NULL                      |1367                  |NULL                              |NULL                             |NULL                                   |33.0                              |CanSino, Covaxin, Johnson&Johnson, Moderna, Oxf...  |2023-11-26               |World Health Organization  |https://covid19.who.int/  |2023-12-14 22:01:08.767936  |False                 |2021    |\n",
            "|Afghanistan       |AF           |8200                  |8200                 |NULL                       |NULL                      |1367                  |0.02                              |0.02                             |NULL                                   |33.0                              |CanSino, Covaxin, Johnson&Johnson, Moderna, Oxf...  |2023-11-26               |World Health Organization  |https://covid19.who.int/  |2023-12-14 22:01:08.767936  |False                 |2021    |\n",
            "|Afghanistan       |AF           |NULL                  |NULL                 |NULL                       |NULL                      |1580                  |NULL                              |NULL                             |NULL                                   |38.0                              |CanSino, Covaxin, Johnson&Johnson, Moderna, Oxf...  |2023-11-26               |World Health Organization  |https://covid19.who.int/  |2023-12-14 22:01:08.767936  |False                 |2021    |\n",
            "|Afghanistan       |AF           |NULL                  |NULL                 |NULL                       |NULL                      |1794                  |NULL                              |NULL                             |NULL                                   |44.0                              |CanSino, Covaxin, Johnson&Johnson, Moderna, Oxf...  |2023-11-26               |World Health Organization  |https://covid19.who.int/  |2023-12-14 22:01:08.767936  |False                 |2021    |\n",
            "|Afghanistan       |AF           |NULL                  |NULL                 |NULL                       |NULL                      |2008                  |NULL                              |NULL                             |NULL                                   |49.0                              |CanSino, Covaxin, Johnson&Johnson, Moderna, Oxf...  |2023-11-26               |World Health Organization  |https://covid19.who.int/  |2023-12-14 22:01:08.767936  |False                 |2021    |\n",
            "----------------------------------------------------------------------------------------------------------------------------------------------------------------------------------------------------------------------------------------------------------------------------------------------------------------------------------------------------------------------------------------------------------------------------------------------------------------------------------------------------------------\n",
            "\n"
          ]
        }
      ]
    },
    {
      "cell_type": "code",
      "source": [
        "# Sum of Vaccination by each country\n",
        "from snowflake.snowpark.functions import col, lit, sum as sum_, max as max_\n",
        "df.group_by(\"COUNTRY_REGION\").agg(sum_(\"TOTAL_VACCINATIONS\")).show()"
      ],
      "metadata": {
        "colab": {
          "base_uri": "https://localhost:8080/",
          "height": 0
        },
        "id": "7FBgxwToL4sd",
        "outputId": "5a7e945a-2357-4b7d-b211-1a9f86337132"
      },
      "execution_count": 9,
      "outputs": [
        {
          "output_type": "stream",
          "name": "stdout",
          "text": [
            "---------------------------------------------------\n",
            "|\"COUNTRY_REGION\"     |\"SUM(TOTAL_VACCINATIONS)\"  |\n",
            "---------------------------------------------------\n",
            "|Afghanistan          |1659147079                 |\n",
            "|Albania              |395364296                  |\n",
            "|Andorra              |5846260                    |\n",
            "|Angola               |1398489266                 |\n",
            "|Anguilla             |1290079                    |\n",
            "|Antigua and Barbuda  |7482788                    |\n",
            "|Argentina            |86986241297                |\n",
            "|Armenia              |58724412                   |\n",
            "|Aruba                |98025212                   |\n",
            "|Austria              |1897828020                 |\n",
            "---------------------------------------------------\n",
            "\n"
          ]
        }
      ]
    },
    {
      "cell_type": "code",
      "source": [
        "# Sum of Vaccination by each year\n",
        "from snowflake.snowpark.functions import col, lit, sum as sum_, max as max_\n",
        "df.group_by(\"DATE\").agg(sum_(\"TOTAL_VACCINATIONS\")).show()"
      ],
      "metadata": {
        "colab": {
          "base_uri": "https://localhost:8080/",
          "height": 0
        },
        "id": "5RUj9JrvPkD3",
        "outputId": "8b2df4a1-5e28-4f5b-a521-7dbf46c487ae"
      },
      "execution_count": 10,
      "outputs": [
        {
          "output_type": "stream",
          "name": "stdout",
          "text": [
            "--------------------------------------\n",
            "|\"DATE\"  |\"SUM(TOTAL_VACCINATIONS)\"  |\n",
            "--------------------------------------\n",
            "|2021    |1200757165302              |\n",
            "|2022    |3307282050895              |\n",
            "|2023    |1335368675780              |\n",
            "|2020    |54476506                   |\n",
            "--------------------------------------\n",
            "\n"
          ]
        }
      ]
    },
    {
      "cell_type": "markdown",
      "source": [
        "# Use Group By to get the Vaccines that used in that country"
      ],
      "metadata": {
        "id": "O4iqBxPGSHDB"
      }
    },
    {
      "cell_type": "code",
      "source": [
        "# Define the SQL query with window function and filtering\n",
        "sql = \"\"\"\n",
        "SELECT\n",
        "  COUNTRY_REGION,\n",
        "  VACCINES\n",
        "FROM (\n",
        "  SELECT\n",
        "    COUNTRY_REGION,\n",
        "    VACCINES,\n",
        "    ROW_NUMBER() OVER (PARTITION BY COUNTRY_REGION ORDER BY LENGTH(VACCINES) DESC) AS rn\n",
        "  FROM OWID_VACCINATIONS\n",
        ") AS ranked_vaccines\n",
        "WHERE rn = 1\n",
        "\"\"\"\n",
        "\n",
        "# Execute the SQL query using the session\n",
        "df_with_longest_vaccine = demo_session.sql(sql)\n",
        "\n",
        "# Display the results\n",
        "df_with_longest_vaccine.show()"
      ],
      "metadata": {
        "colab": {
          "base_uri": "https://localhost:8080/",
          "height": 0
        },
        "id": "9rreJNLmPwAM",
        "outputId": "2376a426-b83f-4f76-caf3-ccccd7e38a34"
      },
      "execution_count": 17,
      "outputs": [
        {
          "output_type": "stream",
          "name": "stdout",
          "text": [
            "----------------------------------------------------------------------------------\n",
            "|\"COUNTRY_REGION\"           |\"VACCINES\"                                          |\n",
            "----------------------------------------------------------------------------------\n",
            "|Trinidad and Tobago        |Johnson&Johnson, Oxford/AstraZeneca, Pfizer/Bio...  |\n",
            "|Zimbabwe                   |Oxford/AstraZeneca, Sinopharm/Beijing, Sinovac,...  |\n",
            "|Iran                       |COVIran Barekat, CanSino, Covaxin, Johnson&John...  |\n",
            "|Fiji                       |Moderna, Oxford/AstraZeneca, Pfizer/BioNTech        |\n",
            "|Dominican Republic         |Oxford/AstraZeneca, Pfizer/BioNTech, Sinopharm/...  |\n",
            "|El Salvador                |Oxford/AstraZeneca, Pfizer/BioNTech, Sinopharm/...  |\n",
            "|Maldives                   |Johnson&Johnson, Moderna, Oxford/AstraZeneca, P...  |\n",
            "|Sint Maarten (Dutch part)  |Moderna, Oxford/AstraZeneca, Pfizer/BioNTech        |\n",
            "|Belize                     |Johnson&Johnson, Oxford/AstraZeneca, Pfizer/Bio...  |\n",
            "|Mozambique                 |Johnson&Johnson, Oxford/AstraZeneca, Sinopharm/...  |\n",
            "----------------------------------------------------------------------------------\n",
            "\n"
          ]
        }
      ]
    },
    {
      "cell_type": "code",
      "source": [
        "# Sum of Vaccination by each country\n",
        "from snowflake.snowpark.functions import col, lit, sum as sum_, max as max_\n",
        "df_vaccines_sum = df.group_by(\"COUNTRY_REGION\").agg(sum_(\"TOTAL_VACCINATIONS\").alias(\"TOTAL_VACCINATIONS\"))\n",
        "df_vaccines_sum.show()"
      ],
      "metadata": {
        "colab": {
          "base_uri": "https://localhost:8080/",
          "height": 0
        },
        "id": "ycu4xoYLSFwT",
        "outputId": "1692760e-0093-4a3d-a3eb-9a507d86a6df"
      },
      "execution_count": 25,
      "outputs": [
        {
          "output_type": "stream",
          "name": "stdout",
          "text": [
            "----------------------------------------------\n",
            "|\"COUNTRY_REGION\"     |\"TOTAL_VACCINATIONS\"  |\n",
            "----------------------------------------------\n",
            "|Afghanistan          |1659147079            |\n",
            "|Albania              |395364296             |\n",
            "|Andorra              |5846260               |\n",
            "|Angola               |1398489266            |\n",
            "|Anguilla             |1290079               |\n",
            "|Antigua and Barbuda  |7482788               |\n",
            "|Argentina            |86986241297           |\n",
            "|Armenia              |58724412              |\n",
            "|Aruba                |98025212              |\n",
            "|Austria              |1897828020            |\n",
            "----------------------------------------------\n",
            "\n"
          ]
        }
      ]
    },
    {
      "cell_type": "markdown",
      "source": [
        "# Join Both Column"
      ],
      "metadata": {
        "id": "7ANqtiLVUUez"
      }
    },
    {
      "cell_type": "code",
      "source": [
        "from snowflake.snowpark.functions import col\n",
        "\n",
        "df_join = df_vaccines_sum.join(df_with_longest_vaccine, \"COUNTRY_REGION\").select(df_vaccines_sum.COUNTRY_REGION.alias(\"COUNTRY_REGION\"),\n",
        "                                                          df_vaccines_sum.TOTAL_VACCINATIONS, df_with_longest_vaccine.VACCINES)\n",
        "df_join.show()"
      ],
      "metadata": {
        "colab": {
          "base_uri": "https://localhost:8080/",
          "height": 0
        },
        "id": "kFzcNuEeSpLV",
        "outputId": "56d0826e-6db2-45f9-e9d8-1a4d525f9bd5"
      },
      "execution_count": 26,
      "outputs": [
        {
          "output_type": "stream",
          "name": "stdout",
          "text": [
            "------------------------------------------------------------------------------------------------\n",
            "|\"COUNTRY_REGION\"  |\"TOTAL_VACCINATIONS\"  |\"VACCINES\"                                          |\n",
            "------------------------------------------------------------------------------------------------\n",
            "|Mozambique        |561270607             |Johnson&Johnson, Oxford/AstraZeneca, Sinopharm/...  |\n",
            "|Albania           |395364296             |Oxford/AstraZeneca, Pfizer/BioNTech, Sinovac, S...  |\n",
            "|Tajikistan        |324439943             |Moderna, Oxford/AstraZeneca, Pfizer/BioNTech, S...  |\n",
            "|Zimbabwe          |3211422214            |Oxford/AstraZeneca, Sinopharm/Beijing, Sinovac,...  |\n",
            "|Tokelau           |18977                 |Pfizer/BioNTech                                     |\n",
            "|Oman              |202915483             |CanSino, Covaxin, Johnson&Johnson, Moderna, Oxf...  |\n",
            "|Cayman Islands    |12327845              |Oxford/AstraZeneca, Pfizer/BioNTech                 |\n",
            "|Kuwait            |1044825806            |CanSino, Covaxin, Johnson&Johnson, Moderna, Oxf...  |\n",
            "|Luxembourg        |684641413             |Johnson&Johnson, Moderna, Novavax, Oxford/Astra...  |\n",
            "|Senegal           |107224427             |Johnson&Johnson, Oxford/AstraZeneca, Sinopharm/...  |\n",
            "------------------------------------------------------------------------------------------------\n",
            "\n"
          ]
        }
      ]
    },
    {
      "cell_type": "markdown",
      "source": [
        "# Do Data Transformation for 2nd Data"
      ],
      "metadata": {
        "id": "F9gY6KZIVXzd"
      }
    },
    {
      "cell_type": "code",
      "source": [
        "df2 = demo_session.sql('SELECT * FROM WHO_SITUATION_REPORTS')\n",
        "df2.show()"
      ],
      "metadata": {
        "colab": {
          "base_uri": "https://localhost:8080/",
          "height": 0
        },
        "id": "beTo0xX5VesJ",
        "outputId": "cb192085-7e5a-4822-e879-92b0b4665216"
      },
      "execution_count": 27,
      "outputs": [
        {
          "output_type": "stream",
          "name": "stdout",
          "text": [
            "---------------------------------------------------------------------------------------------------------------------------------------------------------------------------------------------------------------------------------------------------------------------------------------------------------------------------------\n",
            "|\"COUNTRY\"      |\"TOTAL_CASES\"  |\"CASES_NEW\"  |\"DEATHS\"  |\"DEATHS_NEW\"  |\"TRANSMISSION_CLASSIFICATION\"  |\"DAYS_SINCE_LAST_REPORTED_CASE\"  |\"ISO3166_1\"  |\"COUNTRY_REGION\"  |\"DATE\"      |\"SITUATION_REPORT_NAME\"       |\"SITUATION_REPORT_URL\"                              |\"LAST_UPDATE_DATE\"          |\"LAST_REPORTED_FLAG\"  |\n",
            "---------------------------------------------------------------------------------------------------------------------------------------------------------------------------------------------------------------------------------------------------------------------------------------------------------------------------------\n",
            "|South Africa   |553188         |7712         |10210     |301           |Community transmission         |0                                |ZA           |South Africa      |2020-08-09  |20200809-covid-19-sitrep-202  |https://www.who.int/docs/default-source/coronav...  |2020-08-09 21:32:18.231182  |True                  |\n",
            "|Nigeria        |46140          |453          |942       |6             |Community transmission         |0                                |NG           |Nigeria           |2020-08-09  |20200809-covid-19-sitrep-202  |https://www.who.int/docs/default-source/coronav...  |2020-08-09 21:32:18.231182  |True                  |\n",
            "|Ghana          |40533          |436          |206       |0             |Community transmission         |0                                |GH           |Ghana             |2020-08-09  |20200809-covid-19-sitrep-202  |https://www.who.int/docs/default-source/coronav...  |2020-08-09 21:32:18.231182  |True                  |\n",
            "|Algeria        |34693          |538          |1293      |11            |Community transmission         |0                                |DZ           |Algeria           |2020-08-09  |20200809-covid-19-sitrep-202  |https://www.who.int/docs/default-source/coronav...  |2020-08-09 21:32:18.231182  |True                  |\n",
            "|Kenya          |25837          |699          |418       |5             |Community transmission         |0                                |KE           |Kenya             |2020-08-09  |20200809-covid-19-sitrep-202  |https://www.who.int/docs/default-source/coronav...  |2020-08-09 21:32:18.231182  |True                  |\n",
            "|Ethiopia       |22253          |801          |390       |10            |Community transmission         |0                                |ET           |Ethiopia          |2020-08-09  |20200809-covid-19-sitrep-202  |https://www.who.int/docs/default-source/coronav...  |2020-08-09 21:32:18.231182  |True                  |\n",
            "|Cameroon       |18042          |0            |395       |0             |Community transmission         |1                                |CM           |Cameroon          |2020-08-09  |20200809-covid-19-sitrep-202  |https://www.who.int/docs/default-source/coronav...  |2020-08-09 21:32:18.231182  |True                  |\n",
            "|Côte d'Ivoire  |16620          |96           |104       |0             |Community transmission         |0                                |CI           |Côte d'Ivoire     |2020-08-09  |20200809-covid-19-sitrep-202  |https://www.who.int/docs/default-source/coronav...  |2020-08-09 21:32:18.231182  |True                  |\n",
            "|Madagascar     |12922          |214          |141       |6             |Community transmission         |0                                |MG           |Madagascar        |2020-08-09  |20200809-covid-19-sitrep-202  |https://www.who.int/docs/default-source/coronav...  |2020-08-09 21:32:18.231182  |True                  |\n",
            "|Senegal        |11003          |116          |229       |4             |Community transmission         |0                                |SN           |Senegal           |2020-08-09  |20200809-covid-19-sitrep-202  |https://www.who.int/docs/default-source/coronav...  |2020-08-09 21:32:18.231182  |True                  |\n",
            "---------------------------------------------------------------------------------------------------------------------------------------------------------------------------------------------------------------------------------------------------------------------------------------------------------------------------------\n",
            "\n"
          ]
        }
      ]
    },
    {
      "cell_type": "code",
      "source": [
        "# Check the datatypes\n",
        "df2.dtypes"
      ],
      "metadata": {
        "colab": {
          "base_uri": "https://localhost:8080/",
          "height": 0
        },
        "id": "qDUqrBmCXi5D",
        "outputId": "0a120bdc-026b-4417-9354-5fcd08c5facf"
      },
      "execution_count": 37,
      "outputs": [
        {
          "output_type": "execute_result",
          "data": {
            "text/plain": [
              "[('COUNTRY', 'string(16777216)'),\n",
              " ('TOTAL_CASES', 'bigint'),\n",
              " ('CASES_NEW', 'bigint'),\n",
              " ('DEATHS', 'bigint'),\n",
              " ('DEATHS_NEW', 'bigint'),\n",
              " ('TRANSMISSION_CLASSIFICATION', 'string(16777216)'),\n",
              " ('DAYS_SINCE_LAST_REPORTED_CASE', 'bigint'),\n",
              " ('ISO3166_1', 'string(16777216)'),\n",
              " ('COUNTRY_REGION', 'string(16777216)'),\n",
              " ('DATE', 'date'),\n",
              " ('SITUATION_REPORT_NAME', 'string(16777216)'),\n",
              " ('SITUATION_REPORT_URL', 'string(16777216)'),\n",
              " ('LAST_UPDATE_DATE', 'timestamp'),\n",
              " ('LAST_REPORTED_FLAG', 'boolean')]"
            ]
          },
          "metadata": {},
          "execution_count": 37
        }
      ]
    },
    {
      "cell_type": "code",
      "source": [
        "# Group by COUNTRY_REGION and calculate sums\n",
        "df_cases_and_death_sum = df2.groupBy(\"COUNTRY_REGION\") \\\n",
        "                          .agg(sum_(col(\"TOTAL_CASES\")).alias(\"TOTAL_CASES\"),  # Calculate sum of TOTAL_CASES\n",
        "                               sum_(col(\"DEATHS\")).alias(\"DEATHS\"))  # Calculate sum of DEATHS\n",
        "\n",
        "# Display the results\n",
        "df_cases_and_death_sum.show()"
      ],
      "metadata": {
        "colab": {
          "base_uri": "https://localhost:8080/",
          "height": 0
        },
        "id": "sR4Fo9F1V-DF",
        "outputId": "9eb21c4b-b562-47d1-bef9-7e2816e504ec"
      },
      "execution_count": 38,
      "outputs": [
        {
          "output_type": "stream",
          "name": "stdout",
          "text": [
            "--------------------------------------------------------------------\n",
            "|\"COUNTRY_REGION\"                       |\"TOTAL_CASES\"  |\"DEATHS\"  |\n",
            "--------------------------------------------------------------------\n",
            "|South Africa                           |11879542       |196895    |\n",
            "|Nigeria                                |1504842        |37748     |\n",
            "|Ghana                                  |1112680        |6107      |\n",
            "|Algeria                                |1032520        |61547     |\n",
            "|Ethiopia                               |413832         |6964      |\n",
            "|Côte d'Ivoire                          |532443         |3852      |\n",
            "|Madagascar                             |245945         |2239      |\n",
            "|Senegal                                |379824         |6423      |\n",
            "|Congo, The Democratic Republic of the  |335702         |8281      |\n",
            "|Zambia                                 |138227         |3379      |\n",
            "--------------------------------------------------------------------\n",
            "\n"
          ]
        }
      ]
    },
    {
      "cell_type": "markdown",
      "source": [
        "# Do Join Table Between df_cases_and_death_sum and df_join"
      ],
      "metadata": {
        "id": "pesZpQz_Xvax"
      }
    },
    {
      "cell_type": "code",
      "source": [
        "from snowflake.snowpark.functions import col\n",
        "\n",
        "df_join2 = df_cases_and_death_sum.join(df_join, \"COUNTRY_REGION\").select(df_cases_and_death_sum.COUNTRY_REGION.alias(\"COUNTRY_REGION\"),\n",
        "                                                          df_cases_and_death_sum.TOTAL_CASES, df_cases_and_death_sum.DEATHS,\n",
        "                                                          df_join.TOTAL_VACCINATIONS, df_join.VACCINES)\n",
        "df_join2.show()"
      ],
      "metadata": {
        "colab": {
          "base_uri": "https://localhost:8080/",
          "height": 0
        },
        "id": "2_p3Hk4tX4Fa",
        "outputId": "f8a04204-7e1a-411c-978c-806b1a20eb5e"
      },
      "execution_count": 42,
      "outputs": [
        {
          "output_type": "stream",
          "name": "stdout",
          "text": [
            "---------------------------------------------------------------------------------------------------------------------------------\n",
            "|\"COUNTRY_REGION\"        |\"TOTAL_CASES\"  |\"DEATHS\"  |\"TOTAL_VACCINATIONS\"  |\"VACCINES\"                                          |\n",
            "---------------------------------------------------------------------------------------------------------------------------------\n",
            "|Lithuania               |197936         |7742      |3318934224            |Johnson&Johnson, Moderna, Novavax, Oxford/Astra...  |\n",
            "|Thailand                |397600         |6848      |45547040066           |Moderna, Oxford/AstraZeneca, Pfizer/BioNTech, S...  |\n",
            "|Norway                  |1025544        |27431     |5163271667            |Moderna, Pfizer/BioNTech                            |\n",
            "|Maldives                |216528         |877       |214353973             |Johnson&Johnson, Moderna, Oxford/AstraZeneca, P...  |\n",
            "|Barbados                |11667          |790       |128989451             |Johnson&Johnson, Oxford/AstraZeneca, Pfizer/Bio...  |\n",
            "|Cyprus                  |111396         |2323      |188496747             |Johnson&Johnson, Moderna, Novavax, Oxford/Astra...  |\n",
            "|Togo                    |54860          |1437      |114080933             |Oxford/AstraZeneca                                  |\n",
            "|Bosnia and Herzegovina  |519635         |19876     |13550064              |Oxford/AstraZeneca, Pfizer/BioNTech, Sinovac, S...  |\n",
            "|Italy                   |29000446       |4026385   |112298543444          |Johnson&Johnson, Moderna, Novavax, Oxford/Astra...  |\n",
            "|Iraq                    |4514214        |174372    |1082797012            |CanSino, Covaxin, Johnson&Johnson, Moderna, Oxf...  |\n",
            "---------------------------------------------------------------------------------------------------------------------------------\n",
            "\n"
          ]
        }
      ]
    },
    {
      "cell_type": "markdown",
      "source": [
        "# Next thing is do other join and lastly make a Dashboard"
      ],
      "metadata": {
        "id": "m__rHrGmYl4c"
      }
    }
  ]
}