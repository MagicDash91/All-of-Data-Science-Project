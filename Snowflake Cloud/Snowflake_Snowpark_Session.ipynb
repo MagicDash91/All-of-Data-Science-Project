{
  "nbformat": 4,
  "nbformat_minor": 0,
  "metadata": {
    "colab": {
      "provenance": []
    },
    "kernelspec": {
      "name": "python3",
      "display_name": "Python 3"
    },
    "language_info": {
      "name": "python"
    }
  },
  "cells": [
    {
      "cell_type": "markdown",
      "source": [
        "# Install Required Library"
      ],
      "metadata": {
        "id": "xe3ioIeBOEVv"
      }
    },
    {
      "cell_type": "code",
      "execution_count": null,
      "metadata": {
        "colab": {
          "base_uri": "https://localhost:8080/"
        },
        "id": "nUI_Fe6nLjC-",
        "outputId": "a9217013-5cd8-48f6-b4dd-2217f94882f3"
      },
      "outputs": [
        {
          "output_type": "stream",
          "name": "stdout",
          "text": [
            "Requirement already satisfied: snowflake-snowpark-python in /usr/local/lib/python3.10/dist-packages (1.14.0)\n",
            "Requirement already satisfied: setuptools>=40.6.0 in /usr/local/lib/python3.10/dist-packages (from snowflake-snowpark-python) (67.7.2)\n",
            "Requirement already satisfied: wheel in /usr/local/lib/python3.10/dist-packages (from snowflake-snowpark-python) (0.43.0)\n",
            "Requirement already satisfied: snowflake-connector-python<4.0.0,>=3.6.0 in /usr/local/lib/python3.10/dist-packages (from snowflake-snowpark-python) (3.8.1)\n",
            "Requirement already satisfied: typing-extensions<5.0.0,>=4.1.0 in /usr/local/lib/python3.10/dist-packages (from snowflake-snowpark-python) (4.11.0)\n",
            "Requirement already satisfied: pyyaml in /usr/local/lib/python3.10/dist-packages (from snowflake-snowpark-python) (6.0.1)\n",
            "Requirement already satisfied: cloudpickle!=2.1.0,!=2.2.0,<=2.2.1,>=1.6.0 in /usr/local/lib/python3.10/dist-packages (from snowflake-snowpark-python) (2.2.1)\n",
            "Requirement already satisfied: asn1crypto<2.0.0,>0.24.0 in /usr/local/lib/python3.10/dist-packages (from snowflake-connector-python<4.0.0,>=3.6.0->snowflake-snowpark-python) (1.5.1)\n",
            "Requirement already satisfied: cffi<2.0.0,>=1.9 in /usr/local/lib/python3.10/dist-packages (from snowflake-connector-python<4.0.0,>=3.6.0->snowflake-snowpark-python) (1.16.0)\n",
            "Requirement already satisfied: cryptography<43.0.0,>=3.1.0 in /usr/local/lib/python3.10/dist-packages (from snowflake-connector-python<4.0.0,>=3.6.0->snowflake-snowpark-python) (42.0.5)\n",
            "Requirement already satisfied: pyOpenSSL<25.0.0,>=16.2.0 in /usr/local/lib/python3.10/dist-packages (from snowflake-connector-python<4.0.0,>=3.6.0->snowflake-snowpark-python) (24.1.0)\n",
            "Requirement already satisfied: pyjwt<3.0.0 in /usr/lib/python3/dist-packages (from snowflake-connector-python<4.0.0,>=3.6.0->snowflake-snowpark-python) (2.3.0)\n",
            "Requirement already satisfied: pytz in /usr/local/lib/python3.10/dist-packages (from snowflake-connector-python<4.0.0,>=3.6.0->snowflake-snowpark-python) (2023.4)\n",
            "Requirement already satisfied: requests<3.0.0 in /usr/local/lib/python3.10/dist-packages (from snowflake-connector-python<4.0.0,>=3.6.0->snowflake-snowpark-python) (2.31.0)\n",
            "Requirement already satisfied: packaging in /usr/local/lib/python3.10/dist-packages (from snowflake-connector-python<4.0.0,>=3.6.0->snowflake-snowpark-python) (24.0)\n",
            "Requirement already satisfied: charset-normalizer<4,>=2 in /usr/local/lib/python3.10/dist-packages (from snowflake-connector-python<4.0.0,>=3.6.0->snowflake-snowpark-python) (3.3.2)\n",
            "Requirement already satisfied: idna<4,>=2.5 in /usr/local/lib/python3.10/dist-packages (from snowflake-connector-python<4.0.0,>=3.6.0->snowflake-snowpark-python) (3.6)\n",
            "Requirement already satisfied: certifi>=2017.4.17 in /usr/local/lib/python3.10/dist-packages (from snowflake-connector-python<4.0.0,>=3.6.0->snowflake-snowpark-python) (2024.2.2)\n",
            "Requirement already satisfied: filelock<4,>=3.5 in /usr/local/lib/python3.10/dist-packages (from snowflake-connector-python<4.0.0,>=3.6.0->snowflake-snowpark-python) (3.13.4)\n",
            "Requirement already satisfied: sortedcontainers>=2.4.0 in /usr/local/lib/python3.10/dist-packages (from snowflake-connector-python<4.0.0,>=3.6.0->snowflake-snowpark-python) (2.4.0)\n",
            "Requirement already satisfied: platformdirs<5.0.0,>=2.6.0 in /usr/local/lib/python3.10/dist-packages (from snowflake-connector-python<4.0.0,>=3.6.0->snowflake-snowpark-python) (4.2.0)\n",
            "Requirement already satisfied: tomlkit in /usr/local/lib/python3.10/dist-packages (from snowflake-connector-python<4.0.0,>=3.6.0->snowflake-snowpark-python) (0.12.4)\n",
            "Requirement already satisfied: pycparser in /usr/local/lib/python3.10/dist-packages (from cffi<2.0.0,>=1.9->snowflake-connector-python<4.0.0,>=3.6.0->snowflake-snowpark-python) (2.22)\n",
            "Requirement already satisfied: urllib3<3,>=1.21.1 in /usr/local/lib/python3.10/dist-packages (from requests<3.0.0->snowflake-connector-python<4.0.0,>=3.6.0->snowflake-snowpark-python) (2.0.7)\n"
          ]
        }
      ],
      "source": [
        "pip install snowflake-snowpark-python"
      ]
    },
    {
      "cell_type": "markdown",
      "source": [
        "# Create Snowpark Session"
      ],
      "metadata": {
        "id": "P7tMNrSvToO9"
      }
    },
    {
      "cell_type": "code",
      "source": [
        "from snowflake.snowpark.session import Session\n",
        "\n",
        "username = 'MAGICDASH91'\n",
        "password = '*************'\n",
        "account = 'tk11073.europe-west4.gcp'\n",
        "warehouse = 'COMPUTE_WH'\n",
        "database = 'DATABASE'\n",
        "schema = 'PUBLIC'\n",
        "\n",
        "def snowpark_session_create():\n",
        "  connection_params = {\n",
        "      \"user\": username,\n",
        "      \"password\": password,\n",
        "      \"account\": account,\n",
        "      \"warehouse\": warehouse,\n",
        "      \"database\": database,\n",
        "      \"schema\": schema\n",
        "  }\n",
        "\n",
        "  # Create the session\n",
        "  session = Session.builder.configs(connection_params).create()\n",
        "  return session\n",
        "\n",
        "demo_session = snowpark_session_create()"
      ],
      "metadata": {
        "id": "_UiOBJ79Mhmb"
      },
      "execution_count": null,
      "outputs": []
    },
    {
      "cell_type": "markdown",
      "source": [
        "# Start Querying your data"
      ],
      "metadata": {
        "id": "F961ofKuT0h9"
      }
    },
    {
      "cell_type": "code",
      "source": [
        "df = demo_session.sql('SELECT * FROM CROSS_SELL')\n",
        "df.show()"
      ],
      "metadata": {
        "colab": {
          "base_uri": "https://localhost:8080/"
        },
        "id": "FlYG5jeXTrSr",
        "outputId": "e11a1247-a83e-4ebe-b0f6-7f53bb6d0ce2"
      },
      "execution_count": null,
      "outputs": [
        {
          "output_type": "stream",
          "name": "stdout",
          "text": [
            "----------------------------------------------------------------------------------------------------------------------------------------------------------------------------------------------\n",
            "|\"ID\"  |\"GENDER\"  |\"AGE\"  |\"DRIVING_LICENSE\"  |\"REGION_CODE\"  |\"PREVIOUSLY_INSURED\"  |\"VEHICLE_AGE\"  |\"VEHICLE_DAMAGE\"  |\"ANNUAL_PREMIUM\"  |\"POLICY_SALES_CHANNEL\"  |\"VINTAGE\"  |\"RESPONSE\"  |\n",
            "----------------------------------------------------------------------------------------------------------------------------------------------------------------------------------------------\n",
            "|1     |Male      |44     |1                  |28.0           |0                     |> 2 Years      |True              |40454.0           |26.0                    |217        |1           |\n",
            "|2     |Male      |76     |1                  |3.0            |0                     |1-2 Year       |False             |33536.0           |26.0                    |183        |0           |\n",
            "|3     |Male      |47     |1                  |28.0           |0                     |> 2 Years      |True              |38294.0           |26.0                    |27         |1           |\n",
            "|4     |Male      |21     |1                  |11.0           |1                     |< 1 Year       |False             |28619.0           |152.0                   |203        |0           |\n",
            "|5     |Female    |29     |1                  |41.0           |1                     |< 1 Year       |False             |27496.0           |152.0                   |39         |0           |\n",
            "|6     |Female    |24     |1                  |33.0           |0                     |< 1 Year       |True              |2630.0            |160.0                   |176        |0           |\n",
            "|7     |Male      |23     |1                  |11.0           |0                     |< 1 Year       |True              |23367.0           |152.0                   |249        |0           |\n",
            "|8     |Female    |56     |1                  |28.0           |0                     |1-2 Year       |True              |32031.0           |26.0                    |72         |1           |\n",
            "|9     |Female    |24     |1                  |3.0            |1                     |< 1 Year       |False             |27619.0           |152.0                   |28         |0           |\n",
            "|10    |Female    |32     |1                  |6.0            |1                     |< 1 Year       |False             |28771.0           |152.0                   |80         |0           |\n",
            "----------------------------------------------------------------------------------------------------------------------------------------------------------------------------------------------\n",
            "\n"
          ]
        }
      ]
    },
    {
      "cell_type": "markdown",
      "source": [
        "# Snowflake Transformation"
      ],
      "metadata": {
        "id": "3n2-ctOPg5HG"
      }
    },
    {
      "cell_type": "code",
      "source": [
        "import snowflake.snowpark.functions as F"
      ],
      "metadata": {
        "id": "GQI9PNEDVHBl"
      },
      "execution_count": null,
      "outputs": []
    },
    {
      "cell_type": "code",
      "source": [
        "# Show the Age where Age between 30 and 44\n",
        "df_age = df.filter(F.col('AGE').between(30,44))\n",
        "df_age.show()"
      ],
      "metadata": {
        "colab": {
          "base_uri": "https://localhost:8080/"
        },
        "id": "Q6aL1zaLhpyw",
        "outputId": "0f315e6c-d52c-4658-bd42-a4389bbf1631"
      },
      "execution_count": null,
      "outputs": [
        {
          "output_type": "stream",
          "name": "stdout",
          "text": [
            "----------------------------------------------------------------------------------------------------------------------------------------------------------------------------------------------\n",
            "|\"ID\"  |\"GENDER\"  |\"AGE\"  |\"DRIVING_LICENSE\"  |\"REGION_CODE\"  |\"PREVIOUSLY_INSURED\"  |\"VEHICLE_AGE\"  |\"VEHICLE_DAMAGE\"  |\"ANNUAL_PREMIUM\"  |\"POLICY_SALES_CHANNEL\"  |\"VINTAGE\"  |\"RESPONSE\"  |\n",
            "----------------------------------------------------------------------------------------------------------------------------------------------------------------------------------------------\n",
            "|1     |Male      |44     |1                  |28.0           |0                     |> 2 Years      |True              |40454.0           |26.0                    |217        |1           |\n",
            "|10    |Female    |32     |1                  |6.0            |1                     |< 1 Year       |False             |28771.0           |152.0                   |80         |0           |\n",
            "|13    |Female    |41     |1                  |15.0           |1                     |1-2 Year       |False             |31409.0           |14.0                    |221        |0           |\n",
            "|16    |Male      |37     |1                  |6.0            |0                     |1-2 Year       |True              |2630.0            |156.0                   |147        |1           |\n",
            "|19    |Male      |42     |1                  |28.0           |0                     |1-2 Year       |True              |33667.0           |124.0                   |158        |0           |\n",
            "|24    |Male      |44     |1                  |28.0           |0                     |1-2 Year       |True              |41852.0           |163.0                   |60         |0           |\n",
            "|25    |Male      |34     |1                  |15.0           |1                     |1-2 Year       |False             |38111.0           |152.0                   |180        |0           |\n",
            "|35    |Female    |32     |1                  |30.0           |1                     |< 1 Year       |False             |27638.0           |152.0                   |169        |0           |\n",
            "|36    |Male      |41     |1                  |36.0           |1                     |1-2 Year       |False             |30039.0           |124.0                   |88         |0           |\n",
            "|41    |Male      |30     |1                  |30.0           |0                     |< 1 Year       |True              |24550.0           |124.0                   |45         |0           |\n",
            "----------------------------------------------------------------------------------------------------------------------------------------------------------------------------------------------\n",
            "\n"
          ]
        }
      ]
    },
    {
      "cell_type": "code",
      "source": [
        "# Create an aggregation about Average ANNUAL_PREMIUM for every VEHICLE_AGE\n",
        "avg_ann = df.group_by('VEHICLE_AGE').agg(F.avg('ANNUAL_PREMIUM').alias('AVERAGE_ANNUAL_PREMIUM'))\n",
        "avg_ann.show()"
      ],
      "metadata": {
        "colab": {
          "base_uri": "https://localhost:8080/"
        },
        "id": "KrAhFfgVkLu1",
        "outputId": "420c4b76-1415-49f9-ccd6-06bb968ec3b6"
      },
      "execution_count": null,
      "outputs": [
        {
          "output_type": "stream",
          "name": "stdout",
          "text": [
            "--------------------------------------------\n",
            "|\"VEHICLE_AGE\"  |\"AVERAGE_ANNUAL_PREMIUM\"  |\n",
            "--------------------------------------------\n",
            "|> 2 Years      |35654.4994690             |\n",
            "|1-2 Year       |30523.5821203             |\n",
            "|< 1 Year       |30119.5520251             |\n",
            "--------------------------------------------\n",
            "\n"
          ]
        }
      ]
    },
    {
      "cell_type": "code",
      "source": [
        "# Simple Multiplication\n",
        "mul_col = df.with_column(\"AGE & VINTAGE\", F.col('AGE') * F.col('VINTAGE'))\n",
        "mul_col.show()"
      ],
      "metadata": {
        "colab": {
          "base_uri": "https://localhost:8080/"
        },
        "id": "dWGuzthgoXmu",
        "outputId": "8e5a7484-934c-4360-9a2d-5c74ec285fdf"
      },
      "execution_count": null,
      "outputs": [
        {
          "output_type": "stream",
          "name": "stdout",
          "text": [
            "----------------------------------------------------------------------------------------------------------------------------------------------------------------------------------------------------------------\n",
            "|\"ID\"  |\"GENDER\"  |\"AGE\"  |\"DRIVING_LICENSE\"  |\"REGION_CODE\"  |\"PREVIOUSLY_INSURED\"  |\"VEHICLE_AGE\"  |\"VEHICLE_DAMAGE\"  |\"ANNUAL_PREMIUM\"  |\"POLICY_SALES_CHANNEL\"  |\"VINTAGE\"  |\"RESPONSE\"  |\"AGE & VINTAGE\"  |\n",
            "----------------------------------------------------------------------------------------------------------------------------------------------------------------------------------------------------------------\n",
            "|1     |Male      |44     |1                  |28.0           |0                     |> 2 Years      |True              |40454.0           |26.0                    |217        |1           |9548             |\n",
            "|2     |Male      |76     |1                  |3.0            |0                     |1-2 Year       |False             |33536.0           |26.0                    |183        |0           |13908            |\n",
            "|3     |Male      |47     |1                  |28.0           |0                     |> 2 Years      |True              |38294.0           |26.0                    |27         |1           |1269             |\n",
            "|4     |Male      |21     |1                  |11.0           |1                     |< 1 Year       |False             |28619.0           |152.0                   |203        |0           |4263             |\n",
            "|5     |Female    |29     |1                  |41.0           |1                     |< 1 Year       |False             |27496.0           |152.0                   |39         |0           |1131             |\n",
            "|6     |Female    |24     |1                  |33.0           |0                     |< 1 Year       |True              |2630.0            |160.0                   |176        |0           |4224             |\n",
            "|7     |Male      |23     |1                  |11.0           |0                     |< 1 Year       |True              |23367.0           |152.0                   |249        |0           |5727             |\n",
            "|8     |Female    |56     |1                  |28.0           |0                     |1-2 Year       |True              |32031.0           |26.0                    |72         |1           |4032             |\n",
            "|9     |Female    |24     |1                  |3.0            |1                     |< 1 Year       |False             |27619.0           |152.0                   |28         |0           |672              |\n",
            "|10    |Female    |32     |1                  |6.0            |1                     |< 1 Year       |False             |28771.0           |152.0                   |80         |0           |2560             |\n",
            "----------------------------------------------------------------------------------------------------------------------------------------------------------------------------------------------------------------\n",
            "\n"
          ]
        }
      ]
    },
    {
      "cell_type": "markdown",
      "source": [
        "# For other Snowpark Functions you can check here :\n",
        "\n",
        "https://docs.snowflake.com/en/developer-guide/snowpark/reference/python/latest/api/snowflake.snowpark.functions.function"
      ],
      "metadata": {
        "id": "5RvyahLxno7x"
      }
    },
    {
      "cell_type": "markdown",
      "source": [
        "# Alter (Editing) Existing Dataframe"
      ],
      "metadata": {
        "id": "MqHqX9p_rzs6"
      }
    },
    {
      "cell_type": "code",
      "source": [
        "# Rename \"AVERAGE_ANNUAL_PREMIUM\" to be \"AVERAGE_ANNUAL_PREMIUM_ALL_AGE\"\n",
        "avg_ann = avg_ann.with_column_renamed(F.col('AVERAGE_ANNUAL_PREMIUM'), 'AVERAGE_ANNUAL_PREMIUM_ALL_AGE')\n",
        "avg_ann.show()"
      ],
      "metadata": {
        "colab": {
          "base_uri": "https://localhost:8080/"
        },
        "id": "_i19UKLOsFnp",
        "outputId": "896d0273-da93-4764-93c2-dd858cd3d66d"
      },
      "execution_count": null,
      "outputs": [
        {
          "output_type": "stream",
          "name": "stdout",
          "text": [
            "----------------------------------------------------\n",
            "|\"VEHICLE_AGE\"  |\"AVERAGE_ANNUAL_PREMIUM_ALL_AGE\"  |\n",
            "----------------------------------------------------\n",
            "|> 2 Years      |35654.4994690                     |\n",
            "|1-2 Year       |30523.5821203                     |\n",
            "|< 1 Year       |30119.5520251                     |\n",
            "----------------------------------------------------\n",
            "\n"
          ]
        }
      ]
    },
    {
      "cell_type": "markdown",
      "source": [
        "# Snowflake Drop column"
      ],
      "metadata": {
        "id": "pCfM2Bxytgd7"
      }
    },
    {
      "cell_type": "code",
      "source": [
        "df.drop(\"ID\").show()"
      ],
      "metadata": {
        "colab": {
          "base_uri": "https://localhost:8080/"
        },
        "id": "Wv78trnDtic7",
        "outputId": "0879ffc1-ad0e-4622-a74a-a422da61a915"
      },
      "execution_count": null,
      "outputs": [
        {
          "output_type": "stream",
          "name": "stdout",
          "text": [
            "---------------------------------------------------------------------------------------------------------------------------------------------------------------------------------------\n",
            "|\"GENDER\"  |\"AGE\"  |\"DRIVING_LICENSE\"  |\"REGION_CODE\"  |\"PREVIOUSLY_INSURED\"  |\"VEHICLE_AGE\"  |\"VEHICLE_DAMAGE\"  |\"ANNUAL_PREMIUM\"  |\"POLICY_SALES_CHANNEL\"  |\"VINTAGE\"  |\"RESPONSE\"  |\n",
            "---------------------------------------------------------------------------------------------------------------------------------------------------------------------------------------\n",
            "|Male      |44     |1                  |28.0           |0                     |> 2 Years      |True              |40454.0           |26.0                    |217        |1           |\n",
            "|Male      |76     |1                  |3.0            |0                     |1-2 Year       |False             |33536.0           |26.0                    |183        |0           |\n",
            "|Male      |47     |1                  |28.0           |0                     |> 2 Years      |True              |38294.0           |26.0                    |27         |1           |\n",
            "|Male      |21     |1                  |11.0           |1                     |< 1 Year       |False             |28619.0           |152.0                   |203        |0           |\n",
            "|Female    |29     |1                  |41.0           |1                     |< 1 Year       |False             |27496.0           |152.0                   |39         |0           |\n",
            "|Female    |24     |1                  |33.0           |0                     |< 1 Year       |True              |2630.0            |160.0                   |176        |0           |\n",
            "|Male      |23     |1                  |11.0           |0                     |< 1 Year       |True              |23367.0           |152.0                   |249        |0           |\n",
            "|Female    |56     |1                  |28.0           |0                     |1-2 Year       |True              |32031.0           |26.0                    |72         |1           |\n",
            "|Female    |24     |1                  |3.0            |1                     |< 1 Year       |False             |27619.0           |152.0                   |28         |0           |\n",
            "|Female    |32     |1                  |6.0            |1                     |< 1 Year       |False             |28771.0           |152.0                   |80         |0           |\n",
            "---------------------------------------------------------------------------------------------------------------------------------------------------------------------------------------\n",
            "\n"
          ]
        }
      ]
    },
    {
      "cell_type": "markdown",
      "source": [
        "# Join the table"
      ],
      "metadata": {
        "id": "HZ39g44VtVOC"
      }
    },
    {
      "cell_type": "code",
      "source": [
        "# We have to make 2nd aggregation dataframe\n",
        "avg_ann2 = df_age.group_by('VEHICLE_AGE').agg(F.avg('ANNUAL_PREMIUM').alias('AVERAGE_ANNUAL_PREMIUM_30_TO_44'))\n",
        "avg_ann2.show()"
      ],
      "metadata": {
        "colab": {
          "base_uri": "https://localhost:8080/"
        },
        "id": "FHO9Xi03tXCD",
        "outputId": "cf36e6a0-91fc-4458-b7fb-a421c5ac3725"
      },
      "execution_count": null,
      "outputs": [
        {
          "output_type": "stream",
          "name": "stdout",
          "text": [
            "-----------------------------------------------------\n",
            "|\"VEHICLE_AGE\"  |\"AVERAGE_ANNUAL_PREMIUM_30_TO_44\"  |\n",
            "-----------------------------------------------------\n",
            "|> 2 Years      |33157.8273078                      |\n",
            "|< 1 Year       |27853.8153776                      |\n",
            "|1-2 Year       |28789.0972791                      |\n",
            "-----------------------------------------------------\n",
            "\n"
          ]
        }
      ]
    },
    {
      "cell_type": "code",
      "source": [
        "join_df = avg_ann.join(avg_ann2, \"VEHICLE_AGE\").select(avg_ann.VEHICLE_AGE.alias(\"VEHICLE_AGE\"),\n",
        "                                                       avg_ann.AVERAGE_ANNUAL_PREMIUM_ALL_AGE,\n",
        "                                                       avg_ann2.AVERAGE_ANNUAL_PREMIUM_30_TO_44)\n",
        "\n",
        "join_df.show()"
      ],
      "metadata": {
        "colab": {
          "base_uri": "https://localhost:8080/"
        },
        "id": "zc1OkGCWt5Ie",
        "outputId": "1888e742-f3c3-4b14-9196-b65e76379704"
      },
      "execution_count": null,
      "outputs": [
        {
          "output_type": "stream",
          "name": "stdout",
          "text": [
            "----------------------------------------------------------------------------------------\n",
            "|\"VEHICLE_AGE\"  |\"AVERAGE_ANNUAL_PREMIUM_ALL_AGE\"  |\"AVERAGE_ANNUAL_PREMIUM_30_TO_44\"  |\n",
            "----------------------------------------------------------------------------------------\n",
            "|> 2 Years      |35654.4994690                     |33157.8273078                      |\n",
            "|1-2 Year       |30523.5821203                     |28789.0972791                      |\n",
            "|< 1 Year       |30119.5520251                     |27853.8153776                      |\n",
            "----------------------------------------------------------------------------------------\n",
            "\n"
          ]
        }
      ]
    }
  ]
}
